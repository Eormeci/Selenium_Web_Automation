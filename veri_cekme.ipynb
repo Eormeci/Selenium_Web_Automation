{
 "cells": [
  {
   "cell_type": "code",
   "execution_count": 1,
   "metadata": {},
   "outputs": [],
   "source": [
    "from selenium import webdriver\n",
    "from selenium.webdriver.chrome.service import Service\n",
    "from webdriver_manager.chrome import ChromeDriverManager\n",
    "from selenium.webdriver.common.by import By\n",
    "import time\n"
   ]
  },
  {
   "cell_type": "code",
   "execution_count": 2,
   "metadata": {},
   "outputs": [
    {
     "name": "stdout",
     "output_type": "stream",
     "text": [
      "İlan Numarası\n",
      "14878671\n",
      "İlan Güncelleme Tarihi\n",
      "19 Mart 2024\n",
      "Kategorisi\n",
      "Satılık\n",
      "Net Metrekare\n",
      "110 M2\n",
      "Oda Sayısı\n",
      "3+1\n",
      "Bulunduğu Kat\n",
      "Kot 1 (-1).Kat\n",
      "Isıtma Tipi\n",
      "Kombi Doğalgaz\n",
      "İlan Oluşturma Tarihi\n",
      "19 Mart 2024\n",
      "Türü\n",
      "Konut\n",
      "Tipi\n",
      "Daire\n",
      "Brüt Metrekare\n",
      "115 M2\n",
      "Binanın Yaşı\n",
      "11-15\n",
      "Binanın Kat Sayısı\n",
      "3\n",
      "Kullanım Durumu\n",
      "Boş\n",
      "Daha Fazla Göster\n"
     ]
    }
   ],
   "source": [
    "\n",
    "\n",
    "options = webdriver.ChromeOptions()\n",
    "options.add_experimental_option(\"detach\", True)\n",
    "\n",
    "# Use ChromeDriverManager to locate/download ChromeDriver if needed\n",
    "chromedriver_path = ChromeDriverManager().install()\n",
    "\n",
    "# Create a Service object using the downloaded path\n",
    "service = Service(chromedriver_path)\n",
    "\n",
    "driver = webdriver.Chrome(options=options, service=service)\n",
    "\n",
    "driver.get(\"https://www.emlakjet.com/ilan/evinburda-dan-merve-firin-yakini-masrafsiz-31-satilik-daire-14878671/\")\n",
    "#time.sleep(5)\n",
    "\n",
    "elements = driver.find_elements(By.CLASS_NAME, \"_2VNNor._2eyo_P\")\n",
    "\n",
    "for element in elements:\n",
    "    print(element.text)  # Her elemanın metnini yazdır\n",
    "\n",
    "# elements değişkenini kullanarak daha fazla işlem yapabilirsiniz\n"
   ]
  },
  {
   "cell_type": "code",
   "execution_count": null,
   "metadata": {},
   "outputs": [],
   "source": []
  }
 ],
 "metadata": {
  "kernelspec": {
   "display_name": "Python 3",
   "language": "python",
   "name": "python3"
  },
  "language_info": {
   "codemirror_mode": {
    "name": "ipython",
    "version": 3
   },
   "file_extension": ".py",
   "mimetype": "text/x-python",
   "name": "python",
   "nbconvert_exporter": "python",
   "pygments_lexer": "ipython3",
   "version": "3.7.9"
  }
 },
 "nbformat": 4,
 "nbformat_minor": 2
}
