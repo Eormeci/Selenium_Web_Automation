{
 "cells": [
  {
   "cell_type": "code",
   "execution_count": 3,
   "metadata": {},
   "outputs": [],
   "source": [
    "from selenium import webdriver\n",
    "from selenium.webdriver.chrome.service import Service\n",
    "from webdriver_manager.chrome import ChromeDriverManager\n",
    "from selenium.webdriver.common.by import By\n",
    "from selenium.webdriver.common.keys import Keys\n",
    "from selenium.webdriver.support.ui import WebDriverWait\n",
    "from selenium.webdriver.support import expected_conditions as EC   \n",
    "from selenium.common.exceptions import TimeoutException \n",
    "from selenium.webdriver.chrome.options import Options\n",
    "import time\n"
   ]
  },
  {
   "cell_type": "code",
   "execution_count": 4,
   "metadata": {},
   "outputs": [],
   "source": [
    "options = Options()\n",
    "options.add_experimental_option(\"detach\", True)\n",
    "\n",
    "# ChromeDriver'ın yükleneceği dizini belirt\n",
    "chromedriver_path = ChromeDriverManager().install()\n",
    "\n",
    "# İndirilen dizini kullanarak bir Service nesnesi oluştur\n",
    "service = Service(chromedriver_path)\n",
    "\n",
    "driver = webdriver.Chrome(options=options, service=service)\n",
    "\n",
    "driver.get(\"https://www.amazon.com.tr/\")\n",
    "\n",
    "arama_kutusu = driver.find_element(By.ID, \"twotabsearchtextbox\")\n",
    "arama_kutusu.send_keys(\"bluetooth klavye\")\n",
    "arama_kutusu.send_keys(Keys.ENTER)\n",
    "\n",
    "# Klavye fiyatlarını ve linklerini bul\n",
    "klavye_fiyatlar = driver.find_elements(By.XPATH, \"//div[contains(@class, 's-price-instructions-style')]//span[@class='a-price']//span[@class='a-price-whole']\")\n",
    "klavye_linkleri = driver.find_elements(By.XPATH, \"//h2[@class='a-size-mini a-spacing-none a-color-base s-line-clamp-4']//a[@class='a-link-normal s-underline-text s-underline-link-text s-link-style a-text-normal']\")\n",
    "\n",
    "# En fazla 5 klavyeye bak\n",
    "for indeks in range(min(5, len(klavye_fiyatlar))):\n",
    "    print(\"-\" * 50)\n",
    "    print(\"Klavye Fiyatı:\", klavye_fiyatlar[indeks].text)\n",
    "    print(\"Klavye Linki:\", klavye_linkleri[indeks].get_attribute(\"href\"))\n",
    "\n",
    "# En düşük fiyatı ve linkini bul\n",
    "en_dusuk_fiyat = float('inf')\n",
    "en_dusuk_fiyat_indeksi = -1\n",
    "\n",
    "for indeks, fiyat in enumerate(klavye_fiyatlar[:5]):  # Sadece ilk 5 klavye üzerinden işlem yap\n",
    "    fiyat_degeri = float(fiyat.text.replace('.', '').replace(',', '.'))\n",
    "    if fiyat_degeri < en_dusuk_fiyat:\n",
    "        en_dusuk_fiyat = fiyat_degeri\n",
    "        en_dusuk_fiyat_indeksi = indeks\n",
    "\n",
    "# En düşük fiyatlı klavyenin bilgisini ekrana yazdır\n",
    "if en_dusuk_fiyat_indeksi != -1:\n",
    "    print(\"-\" * 50)\n",
    "    print(\"En düşük fiyatlı klavye bilgileri:\")\n",
    "    print(\"Fiyat:\", en_dusuk_fiyat)\n",
    "    \n",
    "    # En düşük fiyatlı klavyenin linkini bul\n",
    "    en_dusuk_fiyat_linki = klavye_linkleri[en_dusuk_fiyat_indeksi]\n",
    "    en_dusuk_fiyat_linki.click()  # En düşük fiyatlı klavyenin bağlantısını tıkla\n",
    "\n",
    "# Tarayıcıyı kapat\n",
    "driver.quit()"
   ]
  }
 ],
 "metadata": {
  "kernelspec": {
   "display_name": "Python 3",
   "language": "python",
   "name": "python3"
  },
  "language_info": {
   "codemirror_mode": {
    "name": "ipython",
    "version": 3
   },
   "file_extension": ".py",
   "mimetype": "text/x-python",
   "name": "python",
   "nbconvert_exporter": "python",
   "pygments_lexer": "ipython3",
   "version": "3.7.9"
  }
 },
 "nbformat": 4,
 "nbformat_minor": 2
}
